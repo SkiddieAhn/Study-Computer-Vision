{
 "cells": [
  {
   "cell_type": "code",
   "execution_count": 12,
   "id": "4dccf193-b1c7-4303-be61-96d46fe283ca",
   "metadata": {},
   "outputs": [],
   "source": [
    "import cv2\n",
    "import numpy as np\n",
    "\n",
    "ref_src=cv2.imread('./data/refShapes.jpg')\n",
    "ref_gray=cv2.cvtColor(ref_src,cv2.COLOR_BGR2GRAY)\n",
    "ret,ref_bin=cv2.threshold(ref_gray,0,255,cv2.THRESH_BINARY_INV+cv2.THRESH_OTSU)\n",
    "\n",
    "test_src=cv2.imread('./data/testShapes.jpg')\n",
    "test_gray=cv2.cvtColor(test_src,cv2.COLOR_BGR2GRAY)\n",
    "ret,test_bin=cv2.threshold(test_gray,0,255,cv2.THRESH_BINARY_INV+cv2.THRESH_OTSU)"
   ]
  },
  {
   "cell_type": "code",
   "execution_count": 13,
   "id": "582de7a6-db1a-4404-8b6d-a7fd2f6ad24b",
   "metadata": {},
   "outputs": [],
   "source": [
    "mode=cv2.RETR_EXTERNAL\n",
    "method=cv2.CHAIN_APPROX_SIMPLE\n",
    "ref_contours,_=cv2.findContours(ref_bin,mode,method) # 외곽선 검출 \n",
    "test_contours,_=cv2.findContours(test_bin,mode,method) "
   ]
  },
  {
   "cell_type": "code",
   "execution_count": 14,
   "id": "24ffc516-8c62-42d3-a282-7b8d95f7ef2c",
   "metadata": {},
   "outputs": [],
   "source": [
    "ref_dst=ref_src.copy()\n",
    "colors=((0,0,255),(0,255,0),(255,0,0))\n",
    "for i,cnt in enumerate(ref_contours):\n",
    "    cv2.drawContours(ref_dst,[cnt],0,colors[i],2)"
   ]
  },
  {
   "cell_type": "code",
   "execution_count": 15,
   "id": "d681e668-b56d-4984-9435-8fbab0d5bf6a",
   "metadata": {},
   "outputs": [],
   "source": [
    "test_dst=test_src.copy()\n",
    "method=cv2.CONTOURS_MATCH_I1\n",
    "for i, cnt1 in enumerate(test_contours):\n",
    "    matches=[]\n",
    "    for cnt2 in ref_contours: # 테스트 컨투어 하나를 레퍼런스 컨투어 1,2,3과 비교해서 저장 \n",
    "        ret=cv2.matchShapes(cnt1,cnt2,method,0)\n",
    "        matches.append(ret)\n",
    "    k=np.argmin(matches) # 가장 작은 값의 인덱스를 반환 (색 반환)\n",
    "    cv2.drawContours(test_dst,[cnt1],0,colors[k],2) # (해당색으로 컨투어를 그려라)"
   ]
  },
  {
   "cell_type": "code",
   "execution_count": 16,
   "id": "73d01dbc-f497-457c-b868-6032355d16ac",
   "metadata": {},
   "outputs": [],
   "source": [
    "cv2.imshow('ref_dst',ref_dst)\n",
    "cv2.imshow('test_dst',test_dst)\n",
    "cv2.waitKey()\n",
    "cv2.destroyAllWindows()"
   ]
  },
  {
   "cell_type": "code",
   "execution_count": null,
   "id": "89dbef75-dafd-4f43-b652-921eb53feb9c",
   "metadata": {},
   "outputs": [],
   "source": []
  }
 ],
 "metadata": {
  "kernelspec": {
   "display_name": "Python 3 (ipykernel)",
   "language": "python",
   "name": "python3"
  },
  "language_info": {
   "codemirror_mode": {
    "name": "ipython",
    "version": 3
   },
   "file_extension": ".py",
   "mimetype": "text/x-python",
   "name": "python",
   "nbconvert_exporter": "python",
   "pygments_lexer": "ipython3",
   "version": "3.8.11"
  }
 },
 "nbformat": 4,
 "nbformat_minor": 5
}
