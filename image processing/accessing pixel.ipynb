{
 "cells": [
  {
   "cell_type": "code",
   "execution_count": 2,
   "id": "68aef897-950d-412c-b631-3eaf501daa7d",
   "metadata": {},
   "outputs": [],
   "source": [
    "import cv2\n",
    "import numpy as np"
   ]
  },
  {
   "cell_type": "code",
   "execution_count": 4,
   "id": "c6ec40ca-b877-477a-9877-85cc73b9a2c9",
   "metadata": {},
   "outputs": [
    {
     "name": "stdout",
     "output_type": "stream",
     "text": [
      "img.ndim= 3\n",
      "img.shape= (512, 512, 3)\n",
      "img.dtype= uint8\n",
      "img.dtype= int32\n",
      "img.dtype= uint8\n"
     ]
    }
   ],
   "source": [
    "img = cv2.imread('./data/lena.jpg')\n",
    "\n",
    "print('img.ndim=',img.ndim) # 3차원\n",
    "print('img.shape=',img.shape) # 배열 형태\n",
    "print('img.dtype=',img.dtype)\n",
    "\n",
    "img=img.astype(np.int32)\n",
    "print('img.dtype=',img.dtype)\n",
    "\n",
    "img=np.uint8(img)\n",
    "print('img.dtype=',img.dtype)"
   ]
  },
  {
   "cell_type": "code",
   "execution_count": 5,
   "id": "962871ee-38d5-48bf-83a2-c201ccf8d552",
   "metadata": {},
   "outputs": [
    {
     "name": "stdout",
     "output_type": "stream",
     "text": [
      "[[ 50 145 141 139 141 142 140 139 133 139]\n",
      " [134 142 146 145 143 139 137 140 136 136]\n",
      " [128 142 146 139 136 137 139 142 135 131]\n",
      " [136 146 139 124 127 140 144 142 127 126]\n",
      " [148 139 131 134 143 146 138 128 133 142]\n",
      " [139 138 139 141 142 140 135 131 141 132]\n",
      " [147 143 139 139 141 142 141 139 133 130]\n",
      " [153 143 133 134 143 147 142 135 122 136]\n",
      " [139 136 136 139 142 141 133 126 132 135]\n",
      " [130 138 145 142 133 127 129 133 139 129]]\n"
     ]
    }
   ],
   "source": [
    "img=cv2.imread('./data/lena.jpg',cv2.IMREAD_GRAYSCALE)\n",
    "img[100,200]=50 #100이 y좌표, 200이 x좌표 -> 좌표 변경 \n",
    "print(img[100:110,200:210]) # 픽셀(밝기 값)보기 "
   ]
  }
 ],
 "metadata": {
  "kernelspec": {
   "display_name": "Python 3 (ipykernel)",
   "language": "python",
   "name": "python3"
  },
  "language_info": {
   "codemirror_mode": {
    "name": "ipython",
    "version": 3
   },
   "file_extension": ".py",
   "mimetype": "text/x-python",
   "name": "python",
   "nbconvert_exporter": "python",
   "pygments_lexer": "ipython3",
   "version": "3.8.11"
  }
 },
 "nbformat": 4,
 "nbformat_minor": 5
}
