{
 "cells": [
  {
   "cell_type": "code",
   "execution_count": 5,
   "id": "f607707f-ec73-4bb7-8151-0385b496278b",
   "metadata": {},
   "outputs": [],
   "source": [
    "import cv2\n",
    "import numpy as np\n",
    "import imutils"
   ]
  },
  {
   "cell_type": "code",
   "execution_count": 4,
   "id": "65304305-a62b-47c4-bff3-69df1ea316ab",
   "metadata": {},
   "outputs": [
    {
     "name": "stdout",
     "output_type": "stream",
     "text": [
      "lines.shape= (4, 1, 4)\n"
     ]
    }
   ],
   "source": [
    "src=cv2.imread('./data/rect.jpg')\n",
    "gray=cv2.cvtColor(src,cv2.COLOR_BGR2GRAY)\n",
    "edges=cv2.Canny(gray,50,100)\n",
    "# 허프 변환을 이용한 직선 검출 (p함수는 시작점과 끝점을 구함)\n",
    "lines=cv2.HoughLinesP(edges,rho=1,theta=np.pi/180.0,threshold=100)\n",
    "print('lines.shape=',lines.shape)\n",
    "\n",
    "for line in lines:\n",
    "    x1,y1,x2,y2=line[0]\n",
    "    cv2.line(src,(x1,y1),(x2,y2),(0,0,255),2)\n",
    "    \n",
    "cv2.imshow('edges',edges)\n",
    "cv2.imshow('src',src)\n",
    "cv2.waitKey()\n",
    "cv2.destroyAllWindows()"
   ]
  },
  {
   "cell_type": "code",
   "execution_count": 6,
   "id": "8231fdc3-67fa-4802-a998-412beb1a1ffc",
   "metadata": {},
   "outputs": [
    {
     "name": "stdout",
     "output_type": "stream",
     "text": [
      "circles1.shape= (1, 3, 3)\n"
     ]
    }
   ],
   "source": [
    "src1=cv2.imread('./data/circles.jpg')\n",
    "gray1=cv2.cvtColor(src1,cv2.COLOR_BGR2GRAY)\n",
    "# 허프 변환을 이용한 원 검출 (중점과 반지름 정보를 가지고 있음)\n",
    "circles1=cv2.HoughCircles(gray1,method=cv2.HOUGH_GRADIENT,dp=1,minDist=50,param2=15)\n",
    "\n",
    "circles1=np.uint16(np.around(circles1)) # (1,원의 개수,3:원이 가진 정보:cx,cy,r)\n",
    "print('circles1.shape=',circles1.shape)\n",
    "for circle in circles1[0,:]:\n",
    "    cx,cy,r=circle\n",
    "    cv2.circle(src1,(cx,cy),r,(0,0,255),2)\n",
    "    \n",
    "cv2.imshow('src1',src1)\n",
    "cv2.waitKey()\n",
    "cv2.destroyAllWindows()"
   ]
  },
  {
   "cell_type": "code",
   "execution_count": null,
   "id": "630b52c2-12cf-46da-a0de-ea304a27485f",
   "metadata": {},
   "outputs": [],
   "source": []
  }
 ],
 "metadata": {
  "kernelspec": {
   "display_name": "Python 3 (ipykernel)",
   "language": "python",
   "name": "python3"
  },
  "language_info": {
   "codemirror_mode": {
    "name": "ipython",
    "version": 3
   },
   "file_extension": ".py",
   "mimetype": "text/x-python",
   "name": "python",
   "nbconvert_exporter": "python",
   "pygments_lexer": "ipython3",
   "version": "3.8.11"
  }
 },
 "nbformat": 4,
 "nbformat_minor": 5
}
