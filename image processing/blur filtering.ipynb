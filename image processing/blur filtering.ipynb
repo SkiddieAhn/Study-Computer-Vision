{
 "cells": [
  {
   "cell_type": "code",
   "execution_count": 1,
   "id": "717354b4-73ae-4a95-a58f-0b0b93d89b7b",
   "metadata": {},
   "outputs": [],
   "source": [
    "import cv2\n",
    "import numpy as np"
   ]
  },
  {
   "cell_type": "code",
   "execution_count": 2,
   "id": "d2cfec5d-78b7-4d98-9c2a-adf263708715",
   "metadata": {},
   "outputs": [],
   "source": [
    "src=cv2.imread('./data/lena.jpg', cv2.IMREAD_GRAYSCALE)\n",
    "\n",
    "# normalize(필터의 weight합 1)를 할 수도 있고 안 할 수도 있고, 채널 수 똑같이 맞춤, 커널 사이즈\n",
    "# 커널 사이즈를 높일 수록 블러가 높아진다. \n",
    "dst1=cv2.boxFilter(src,ddepth=-1, ksize=(11,11))\n",
    "dst2=cv2.boxFilter(src,ddepth=-1, ksize=(21,21))\n",
    "\n",
    "cv2.imshow('src',src)\n",
    "cv2.imshow('dst1',dst1)\n",
    "cv2.imshow('dst2',dst2)\n",
    "\n",
    "cv2.waitKey()\n",
    "cv2.destroyAllWindows()"
   ]
  },
  {
   "cell_type": "code",
   "execution_count": 3,
   "id": "63bda0ec-a146-40a5-a885-dbf6c3dc6fe6",
   "metadata": {},
   "outputs": [],
   "source": [
    "src=cv2.imread('./data/lena.jpg', cv2.IMREAD_GRAYSCALE)\n",
    "# 엣지는 살리고 나머지는 블러를 많이 시킴 \n",
    "# salt and pepper 노이즈 제거에 좋음 \n",
    "dst1=cv2.medianBlur(src,ksize=7)\n",
    "# normalize를 자동으로 함 (boxfilter와 같음)\n",
    "dst2=cv2.blur(src,ksize=(7,7))\n",
    "# 가우시안 블러 - 시그마가 0이면 커널 사이즈에 맞게 자동으로 계산 \n",
    "# 박스 필터보다 픽셀의 고유 밝기 값을 유지하려고 함 \n",
    "dst3=cv2.GaussianBlur(src,ksize=(7,7),sigmaX=0.0)\n",
    "dst4=cv2.GaussianBlur(src,ksize=(7,7),sigmaX=10.0)\n",
    "\n",
    "cv2.imshow('src',src)\n",
    "cv2.imshow('dst1',dst1)\n",
    "cv2.imshow('dst2',dst2)\n",
    "cv2.imshow('dst3',dst3)\n",
    "cv2.imshow('dst4',dst4)\n",
    "\n",
    "cv2.waitKey()\n",
    "cv2.destroyAllWindows()"
   ]
  },
  {
   "cell_type": "code",
   "execution_count": 5,
   "id": "8f6dc329-c4e0-47ab-86eb-969b1ff7f470",
   "metadata": {},
   "outputs": [],
   "source": [
    "src=cv2.imread('./data/lena.jpg',cv2.IMREAD_GRAYSCALE)\n",
    "\n",
    "dst1=cv2.boxFilter(src,ddepth=-1, ksize=(11,11))\n",
    "dst2=cv2.boxFilter(src,ddepth=-1, ksize=(21,21))\n",
    "\n",
    "# d는 참조하려는 픽셀의 개수- (-1)이 default <sigmaSpace에 따라 자동 계산 >\n",
    "#  salt and pepper 제외하고 noise제거에 효과적임 \n",
    "dst3=cv2.bilateralFilter(src,d=11,sigmaColor=10,sigmaSpace=10)\n",
    "dst3=cv2.bilateralFilter(src,d=-1,sigmaColor=10,sigmaSpace=10)\n",
    "\n",
    "cv2.imshow('src',src)\n",
    "cv2.imshow('dst1',dst1)\n",
    "cv2.imshow('dst2',dst2)\n",
    "cv2.imshow('dst3',dst3)\n",
    "cv2.imshow('dst4',dst4)\n",
    "\n",
    "cv2.waitKey()\n",
    "cv2.destroyAllWindows()"
   ]
  },
  {
   "cell_type": "code",
   "execution_count": 7,
   "id": "e8c520c1-b313-46b1-806c-9cfcc954c9c6",
   "metadata": {},
   "outputs": [
    {
     "ename": "error",
     "evalue": "OpenCV(4.5.3) C:\\Users\\runneradmin\\AppData\\Local\\Temp\\pip-req-build-u4kjpz2z\\opencv\\modules\\imgproc\\src\\color.cpp:182: error: (-215:Assertion failed) !_src.empty() in function 'cv::cvtColor'\n",
     "output_type": "error",
     "traceback": [
      "\u001b[1;31m---------------------------------------------------------------------------\u001b[0m",
      "\u001b[1;31merror\u001b[0m                                     Traceback (most recent call last)",
      "\u001b[1;32m~\\AppData\\Local\\Temp/ipykernel_18140/1130000039.py\u001b[0m in \u001b[0;36m<module>\u001b[1;34m\u001b[0m\n\u001b[0;32m      2\u001b[0m \u001b[0msrcn\u001b[0m \u001b[1;33m=\u001b[0m \u001b[0mcv2\u001b[0m\u001b[1;33m.\u001b[0m\u001b[0mimread\u001b[0m\u001b[1;33m(\u001b[0m\u001b[1;34m'./data/lena_gray_noise,jpg'\u001b[0m\u001b[1;33m,\u001b[0m\u001b[0mcv2\u001b[0m\u001b[1;33m.\u001b[0m\u001b[0mIMREAD_GRAYSCALE\u001b[0m\u001b[1;33m)\u001b[0m\u001b[1;33m\u001b[0m\u001b[1;33m\u001b[0m\u001b[0m\n\u001b[0;32m      3\u001b[0m \u001b[0mcv2\u001b[0m\u001b[1;33m.\u001b[0m\u001b[0mimshow\u001b[0m\u001b[1;33m(\u001b[0m\u001b[1;34m'src'\u001b[0m\u001b[1;33m,\u001b[0m\u001b[0msrc\u001b[0m\u001b[1;33m)\u001b[0m\u001b[1;33m\u001b[0m\u001b[1;33m\u001b[0m\u001b[0m\n\u001b[1;32m----> 4\u001b[1;33m \u001b[0mcv2\u001b[0m\u001b[1;33m.\u001b[0m\u001b[0mimshow\u001b[0m\u001b[1;33m(\u001b[0m\u001b[1;34m'srcn'\u001b[0m\u001b[1;33m,\u001b[0m\u001b[0msrcn\u001b[0m\u001b[1;33m)\u001b[0m\u001b[1;33m\u001b[0m\u001b[1;33m\u001b[0m\u001b[0m\n\u001b[0m\u001b[0;32m      5\u001b[0m \u001b[0mdst1\u001b[0m\u001b[1;33m=\u001b[0m\u001b[0mcv2\u001b[0m\u001b[1;33m.\u001b[0m\u001b[0mblur\u001b[0m\u001b[1;33m(\u001b[0m\u001b[0msrcn\u001b[0m\u001b[1;33m,\u001b[0m\u001b[0mksize\u001b[0m\u001b[1;33m=\u001b[0m\u001b[1;33m(\u001b[0m\u001b[1;36m7\u001b[0m\u001b[1;33m,\u001b[0m\u001b[1;36m7\u001b[0m\u001b[1;33m)\u001b[0m\u001b[1;33m)\u001b[0m\u001b[1;33m\u001b[0m\u001b[1;33m\u001b[0m\u001b[0m\n\u001b[0;32m      6\u001b[0m \u001b[0mdst2\u001b[0m\u001b[1;33m=\u001b[0m\u001b[0mcv2\u001b[0m\u001b[1;33m.\u001b[0m\u001b[0mGaussianBlur\u001b[0m\u001b[1;33m(\u001b[0m\u001b[0msrcn\u001b[0m\u001b[1;33m,\u001b[0m\u001b[0mksize\u001b[0m\u001b[1;33m=\u001b[0m\u001b[1;33m(\u001b[0m\u001b[1;36m7\u001b[0m\u001b[1;33m,\u001b[0m\u001b[1;36m7\u001b[0m\u001b[1;33m)\u001b[0m\u001b[1;33m,\u001b[0m\u001b[0msigmaX\u001b[0m\u001b[1;33m=\u001b[0m\u001b[1;36m3.0\u001b[0m\u001b[1;33m)\u001b[0m\u001b[1;33m\u001b[0m\u001b[1;33m\u001b[0m\u001b[0m\n",
      "\u001b[1;31merror\u001b[0m: OpenCV(4.5.3) C:\\Users\\runneradmin\\AppData\\Local\\Temp\\pip-req-build-u4kjpz2z\\opencv\\modules\\imgproc\\src\\color.cpp:182: error: (-215:Assertion failed) !_src.empty() in function 'cv::cvtColor'\n"
     ]
    }
   ],
   "source": [
    "src = cv2.imread('./data/lena_gray.jpg',cv2.IMREAD_GRAYSCALE)\n",
    "srcn = cv2.imread('./data/lena_gray_noise,jpg',cv2.IMREAD_GRAYSCALE)\n",
    "cv2.imshow('src',src)\n",
    "cv2.imshow('srcn',srcn)\n",
    "dst1=cv2.blur(srcn,ksize=(7,7))\n",
    "dst2=cv2.GaussianBlur(srcn,ksize=(7,7),sigmaX=3.0)\n",
    "dst3=cv2.bilateralFilter(srcn,d=-1,sigmaColor=5,sigmaSpace=5)\n",
    "dst4=cv2.medianBlur(srcn,ksize=3)\n",
    "\n",
    "cv2.imshow('src',src)\n",
    "cv2.imshow('srcn',srcn)\n",
    "cv2.imshow('dst1',dst1)\n",
    "cv2.imshow('dst2',dst2)\n",
    "cv2.imshow('dst3',dst3)\n",
    "cv2.imshow('dst4',dst4)\n",
    "\n",
    "cv2.waitKey()\n",
    "cv2.destroyAllWindows()"
   ]
  },
  {
   "cell_type": "code",
   "execution_count": null,
   "id": "1e232511-3d6d-4db4-bc67-bf5a8a400718",
   "metadata": {},
   "outputs": [],
   "source": []
  }
 ],
 "metadata": {
  "kernelspec": {
   "display_name": "Python 3 (ipykernel)",
   "language": "python",
   "name": "python3"
  },
  "language_info": {
   "codemirror_mode": {
    "name": "ipython",
    "version": 3
   },
   "file_extension": ".py",
   "mimetype": "text/x-python",
   "name": "python",
   "nbconvert_exporter": "python",
   "pygments_lexer": "ipython3",
   "version": "3.8.11"
  }
 },
 "nbformat": 4,
 "nbformat_minor": 5
}
