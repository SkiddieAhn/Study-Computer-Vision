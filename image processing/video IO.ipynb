{
 "cells": [
  {
   "cell_type": "markdown",
   "id": "3ea99d28-0de3-4d83-a7f4-78b9e16fa2a4",
   "metadata": {},
   "source": [
    "## 1. video input and display - file"
   ]
  },
  {
   "cell_type": "code",
   "execution_count": 1,
   "id": "28e6780b-92cd-43f6-827c-67bc8b535d3a",
   "metadata": {},
   "outputs": [
    {
     "name": "stdout",
     "output_type": "stream",
     "text": [
      "frame_size= (768, 576)\n"
     ]
    }
   ],
   "source": [
    "import cv2\n",
    "\n",
    "##cap =cv2.VideoCapture(0) # 0번 카메라 (카메라로부터 실시간 입력받고 싶을 때)\n",
    "cap=cv2.VideoCapture('./data/vtest.avi') # 비디오 영상 입력 \n",
    "# 동영상의 너비와 높이 가져오기 \n",
    "frame_size=(int(cap.get(cv2.CAP_PROP_FRAME_WIDTH)), int(cap.get(cv2.CAP_PROP_FRAME_HEIGHT)))\n",
    "print('frame_size=',frame_size)\n",
    "\n",
    "while True:\n",
    "    retval, frame = cap.read() # 한 프레임씩 가져오기 \n",
    "    if not retval: # 프레임을 제대롬 못 가져옴 \n",
    "        break\n",
    "        \n",
    "    cv2.imshow('frame',frame) # 영상 보기 (한 프레임씩 보기)\n",
    "    \n",
    "    key=cv2.waitKey(25) # 25초동안 키 입력 기다리기 \n",
    "    if key == 27: # Esc(27)를 누르면 빠져 나가기  \n",
    "        break\n",
    "        \n",
    "if cap.isOpened(): # 영상이 open돼 있으면 \n",
    "    cap.release() # 해제하기 \n",
    "    \n",
    "cv2.destroyAllWindows() # 윈도우 없애기 "
   ]
  },
  {
   "cell_type": "code",
   "execution_count": null,
   "id": "f78f952e-bb1a-4a5a-94e7-8af1a2efaf50",
   "metadata": {},
   "outputs": [],
   "source": []
  }
 ],
 "metadata": {
  "kernelspec": {
   "display_name": "Python 3 (ipykernel)",
   "language": "python",
   "name": "python3"
  },
  "language_info": {
   "codemirror_mode": {
    "name": "ipython",
    "version": 3
   },
   "file_extension": ".py",
   "mimetype": "text/x-python",
   "name": "python",
   "nbconvert_exporter": "python",
   "pygments_lexer": "ipython3",
   "version": "3.8.11"
  }
 },
 "nbformat": 4,
 "nbformat_minor": 5
}
