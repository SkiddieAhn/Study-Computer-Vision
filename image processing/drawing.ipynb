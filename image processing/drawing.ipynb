{
 "cells": [
  {
   "cell_type": "markdown",
   "id": "30a1e956-611a-40e8-b772-a57b7345d601",
   "metadata": {},
   "source": [
    "## 1. line, rectangle drawing"
   ]
  },
  {
   "cell_type": "code",
   "execution_count": 2,
   "id": "eecd41bb-9e0b-4d41-8a92-768bc86b30be",
   "metadata": {},
   "outputs": [],
   "source": [
    "import cv2\n",
    "import numpy as np\n",
    "\n",
    "# White 배경 생성\n",
    "img = np.zeros(shape=(512,512,3), dtype=np.uint8) +255 # 채널 3개, 하얀 영상 \n",
    "pt1 = 100, 100\n",
    "pt2 = 400, 300\n",
    "cv2.rectangle(img, pt1,pt2,(0,255,0),2)  # 점-점, 색, 두께 \n",
    "\n",
    "cv2.line(img, (0,0), (500,0), (255,0,0),5) # 점-점, 색, 두께 \n",
    "cv2.line(img, (0,0), (0,500), (0,0,255), 5)\n",
    "\n",
    "cv2.imshow('img',img)\n",
    "cv2.waitKey()\n",
    "cv2.destroyAllWindows()"
   ]
  },
  {
   "cell_type": "markdown",
   "id": "4c2ce8c0-988d-46c1-928f-be744135094f",
   "metadata": {},
   "source": [
    "## 2. cross point "
   ]
  },
  {
   "cell_type": "code",
   "execution_count": 3,
   "id": "8625519e-5724-4414-93c4-e3057a2dbb1d",
   "metadata": {},
   "outputs": [],
   "source": [
    "img=np.zeros(shape=(512,512,3), dtype=np.uint8) + 255\n",
    "\n",
    "x1, x2 = 100, 400\n",
    "y1, y2= 100, 400\n",
    "cv2.rectangle(img, (x1,y1),(x2,y2),(0,0,255)) \n",
    "\n",
    "pt1 = 120,50\n",
    "pt2 = 300, 500\n",
    "cv2.line(img,pt1,pt2,(255,0,0),2)\n",
    "\n",
    "imgRect=(x1,y1,x2-x1,y2-y1)\n",
    "retval, rpt1, rpt2 = cv2.clipLine(imgRect, pt1, pt2)\n",
    "\n",
    "if retval:\n",
    "    cv2.circle(img, rpt1, radius=5, color=(0,255,0), thickness=-1)\n",
    "    cv2.circle(img, rpt2, radius=5, color=(0,255,0), thickness=-1)\n",
    "    \n",
    "cv2.imshow('img',img)\n",
    "cv2.waitKey()\n",
    "cv2.destroyAllWindows()"
   ]
  },
  {
   "cell_type": "markdown",
   "id": "bcd6e5ea-0ab7-483d-9f6b-8bd0490088b7",
   "metadata": {},
   "source": [
    "## 3. circle drawing "
   ]
  },
  {
   "cell_type": "code",
   "execution_count": 13,
   "id": "0e34ed04-8ba6-41bc-ba64-9abbc07885a2",
   "metadata": {},
   "outputs": [],
   "source": [
    "img=np.zeros(shape=(512,512,3), dtype=np.uint8) + 255\n",
    "cx = img.shape[0]//2\n",
    "cy = img.shape[1]//2\n",
    "\n",
    "for r in range(200,0,-100):\n",
    "    cv2.circle(img,(cx,cy),r,color=(255,0,0))\n",
    "    \n",
    "cv2.circle(img,(cx,cy),radius=50,color=(0,0,255),thickness=-1) # 색은 BGR, -1은 안을 채움\n",
    "\n",
    "cv2.imshow('img',img)\n",
    "cv2.waitKey()\n",
    "cv2.destroyAllWindows()"
   ]
  },
  {
   "cell_type": "markdown",
   "id": "567489e5-865e-4d01-8297-022a956be3e4",
   "metadata": {},
   "source": [
    "## 4.ellipse drawing"
   ]
  },
  {
   "cell_type": "code",
   "execution_count": 14,
   "id": "3d673d9d-7be5-4220-9e1d-6ddb04370bb0",
   "metadata": {},
   "outputs": [],
   "source": [
    "img=np.zeros(shape=(512,512,3), dtype=np.uint8) + 255\n",
    "ptCenter = img.shape[0]//2, img.shape[1]//2\n",
    "size = 200,100\n",
    "\n",
    "cv2.ellipse(img,ptCenter,size,0,0,360,(255,0,0)) # 틀어진 각도, 시작-끝 각도\n",
    "cv2.ellipse(img,ptCenter,size,45,0,360,(0,0,255))\n",
    "\n",
    "# 박스를 이용한 ellipse\n",
    "box=(ptCenter,size,0)\n",
    "cv2.ellipse(img,box,(255,0,0),5) \n",
    "\n",
    "box=(ptCenter,size,45)\n",
    "cv2.ellipse(img,box,(0,0,255),5)\n",
    "\n",
    "cv2.imshow('img',img)\n",
    "cv2.waitKey()\n",
    "cv2.destroyAllWindows()"
   ]
  },
  {
   "cell_type": "markdown",
   "id": "2d4c487a-7c46-44d3-8713-4906cbc3ebe7",
   "metadata": {},
   "source": [
    "## 5. polyline drawing"
   ]
  },
  {
   "cell_type": "code",
   "execution_count": 15,
   "id": "cf7d9fd2-decf-4384-abae-87ec5ed90c79",
   "metadata": {},
   "outputs": [],
   "source": [
    "img = np.zeros(shape=(512,512,3),dtype=np.uint8)+255\n",
    "\n",
    "pts1=np.array([[100,100],[200,100],[200,200],[100,200]]) # 사각형\n",
    "pts2=np.array([[300,200],[400,100],[400,200]]) # 삼각형 \n",
    "\n",
    "cv2.polylines(img, [pts1,pts2], isClosed=True, color=(255,0,0))\n",
    "\n",
    "cv2.imshow('img',img)\n",
    "cv2.waitKey()\n",
    "cv2.destroyAllWindows()"
   ]
  },
  {
   "cell_type": "markdown",
   "id": "0e3afd84-d76d-4548-8016-29d751181172",
   "metadata": {},
   "source": [
    "## 6. rotated rectangle"
   ]
  },
  {
   "cell_type": "code",
   "execution_count": 17,
   "id": "d6945e57-f260-4997-8c8b-fa07c3fced29",
   "metadata": {},
   "outputs": [],
   "source": [
    "img = np.zeros(shape=(512,512,3),dtype=np.uint8)+255\n",
    "\n",
    "x,y =256,256\n",
    "size=200\n",
    "\n",
    "for angle in range(0,90,10):\n",
    "    rect=((256,256), (size,size), angle)\n",
    "    box=cv2.boxPoints(rect).astype(np.int32)\n",
    "    r=np.random.randint(256)\n",
    "    g=np.random.randint(256)\n",
    "    b=np.random.randint(256)\n",
    "    cv2.polylines(img, [box], True, (r,g,b), 2)\n",
    "\n",
    "cv2.imshow('img',img)\n",
    "cv2.waitKey()\n",
    "cv2.destroyAllWindows()"
   ]
  },
  {
   "cell_type": "markdown",
   "id": "53cfee6d-e7f6-4ae0-b2f3-8bd8f027636f",
   "metadata": {},
   "source": [
    "## 7. polygon drawing"
   ]
  },
  {
   "cell_type": "code",
   "execution_count": 18,
   "id": "01710991-b1b1-4b18-af28-8e965ead434c",
   "metadata": {},
   "outputs": [],
   "source": [
    "img = np.zeros(shape=(512,512,3),dtype=np.uint8)+255\n",
    "\n",
    "pts1=np.array([[100,100],[200,100],[200,200],[100,200]]) # 사각형\n",
    "pts2=np.array([[300,200],[400,100],[400,200]]) # 삼각형 \n",
    "\n",
    "cv2.fillConvexPoly(img,pts1,color=(255,0,0))\n",
    "cv2.fillPoly(img,[pts2],color=(0,0,255))\n",
    "\n",
    "cv2.imshow('img',img)\n",
    "cv2.waitKey()\n",
    "cv2.destroyAllWindows()"
   ]
  },
  {
   "cell_type": "markdown",
   "id": "fcc2acca-871b-45e1-826c-f7887d4569aa",
   "metadata": {},
   "source": [
    "## 8. polygon drawing -2"
   ]
  },
  {
   "cell_type": "code",
   "execution_count": 20,
   "id": "e87d26d9-cfda-481b-bdc0-d4cd7eeebfa3",
   "metadata": {},
   "outputs": [],
   "source": [
    "b=(255,0,0)\n",
    "g=(0,255,0)\n",
    "r=(0,0,255)\n",
    "w=(255,255,255)\n",
    "\n",
    "img1=np.zeros((400,400,3),np.uint8)\n",
    "img2=np.zeros((400,400,3),np.uint8)\n",
    "# 점 배열\n",
    "pt1 = np.array([[100,100], [270,110], [300,330], [170,170], [150,250]], np.int32)\n",
    "\n",
    "# 점 배열을 이용해서 convex하게 그림을 그림 (다 볼록하게 그림)\n",
    "cv2.fillConvexPoly(img1, pt1,g)\n",
    "cv2.fillPoly(img2,[pt1],r)\n",
    "\n",
    "cv2.imshow('convex',img1)\n",
    "cv2.imshow('poly',img2)\n",
    "\n",
    "cv2.waitKey()\n",
    "cv2.destroyAllWindows()"
   ]
  },
  {
   "cell_type": "markdown",
   "id": "c3bc484f-e0eb-4af7-a5c4-5e91442580b9",
   "metadata": {},
   "source": [
    "## 9.textout"
   ]
  },
  {
   "cell_type": "code",
   "execution_count": 7,
   "id": "a5324d0d-0322-4122-8afd-b22cc5aba276",
   "metadata": {},
   "outputs": [],
   "source": [
    "img = np.zeros(shape=(512,512,3),dtype=np.uint8)+255\n",
    "text='OpenCV Programming'\n",
    "org=(50,100) # 글씨의 좌측 하단을 기준으로 생각해야 됨\n",
    "font=cv2.FONT_HERSHEY_SIMPLEX\n",
    "cv2.putText(img,text,org,font,1,(200,0,0),2)\n",
    "\n",
    "size, baseLine = cv2.getTextSize(text,font,1,2)\n",
    "\n",
    "#cv2.rectangle(img, org, (org[0]+size[0], org[1]-size[1]), (0,0,255))\n",
    "cv2.circle(img,org,3,(0,255,0),2)\n",
    "\n",
    "cv2.imshow('img',img)\n",
    "cv2.waitKey()\n",
    "cv2.destroyAllWindows()"
   ]
  },
  {
   "cell_type": "code",
   "execution_count": null,
   "id": "1eea6985-d96a-4ac7-8c18-e636820c50f6",
   "metadata": {},
   "outputs": [],
   "source": []
  }
 ],
 "metadata": {
  "kernelspec": {
   "display_name": "Python 3 (ipykernel)",
   "language": "python",
   "name": "python3"
  },
  "language_info": {
   "codemirror_mode": {
    "name": "ipython",
    "version": 3
   },
   "file_extension": ".py",
   "mimetype": "text/x-python",
   "name": "python",
   "nbconvert_exporter": "python",
   "pygments_lexer": "ipython3",
   "version": "3.8.11"
  }
 },
 "nbformat": 4,
 "nbformat_minor": 5
}
