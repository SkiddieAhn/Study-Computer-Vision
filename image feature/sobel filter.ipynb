{
 "cells": [
  {
   "cell_type": "code",
   "execution_count": 1,
   "id": "f102e965-2ce1-41d0-b08e-c3828e89dd21",
   "metadata": {},
   "outputs": [],
   "source": [
    "import cv2\n",
    "import numpy as np"
   ]
  },
  {
   "cell_type": "code",
   "execution_count": 3,
   "id": "6399f4f5-6fec-4e9c-b45f-9117e40ebb78",
   "metadata": {},
   "outputs": [],
   "source": [
    "src=cv2.imread('./data/rect.jpg',cv2.IMREAD_GRAYSCALE)\n",
    "\n",
    "# sobel -> gx는 x축 방향으로 미분값, gy는 y축 방향으로 미분값 들어감 \n",
    "gx=cv2.Sobel(src,cv2.CV_32F, 1,0, ksize=3)\n",
    "gy=cv2.Sobel(src,cv2.CV_32F,0,1,ksize=3)\n",
    "\n",
    "dstX=cv2.normalize(np.abs(gx),None,0,255,cv2.NORM_MINMAX,dtype=cv2.CV_8U)\n",
    "dstY=cv2.normalize(np.abs(gy),None,0,255,cv2.NORM_MINMAX,dtype=cv2.CV_8U)\n",
    "\n",
    "mag=cv2.magnitude(gx,gy)\n",
    "dstM=cv2.normalize(mag,None,0,255,cv2.NORM_MINMAX,dtype=cv2.CV_8U)\n",
    "\n",
    "cv2.imshow('src',src)\n",
    "cv2.imshow('dstX',dstX) # x축 방향으로 밝기값의 차이를 구함 -> x축에 수직인 선 수함\n",
    "cv2.imshow('dstY',dstY) # y축 방향으로 밝기값의 차이를 구함 -> x축에 평행한 수평선 구함\n",
    "cv2.imshow('dstM',dstM) # 둘 다 "
   ]
  },
  {
   "cell_type": "code",
   "execution_count": null,
   "id": "b761ac36-6eca-475c-a334-e4fc4a2d1a49",
   "metadata": {},
   "outputs": [],
   "source": []
  }
 ],
 "metadata": {
  "kernelspec": {
   "display_name": "Python 3 (ipykernel)",
   "language": "python",
   "name": "python3"
  },
  "language_info": {
   "codemirror_mode": {
    "name": "ipython",
    "version": 3
   },
   "file_extension": ".py",
   "mimetype": "text/x-python",
   "name": "python",
   "nbconvert_exporter": "python",
   "pygments_lexer": "ipython3",
   "version": "3.8.11"
  }
 },
 "nbformat": 4,
 "nbformat_minor": 5
}
