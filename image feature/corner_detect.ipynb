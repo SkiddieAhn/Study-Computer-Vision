{
 "cells": [
  {
   "cell_type": "code",
   "execution_count": 1,
   "id": "f439faa0-6263-40ab-93c0-1826722478e4",
   "metadata": {},
   "outputs": [],
   "source": [
    "import cv2\n",
    "import numpy as np\n",
    "from skimage.feature import peak_local_max"
   ]
  },
  {
   "cell_type": "code",
   "execution_count": null,
   "id": "970a5c90-2eef-4582-bad3-20a7747177e6",
   "metadata": {},
   "outputs": [],
   "source": [
    "def findLocalMaxima(src): # 소스: 추출값이 포함된 여러 값들 \n",
    "    # 소스가 입력으로 들어오면 추출하는 값만 남기고 주변 값은 지움 \n",
    "    kernel=cv2.getStructuringElement(shape=cv2.MORPH_RECT,ksize=(11,11))\n",
    "    dilate=cv2.dilate(src,kernel) # 팽창 (로컬 영역에서 가장 큰 값을 취함) \n",
    "    localMax=(src==dilate) # 대응되는 값이 같으면 True (100by100커널에 True,False를 취함)\n",
    "    \n",
    "    erode=cv2.erode(src,kernel) # 로컬 영역에서 가장 작은 값을 취함 \n",
    "    localMax2=(src>erode) # src가 erosion값보다 크면 True ()\n",
    "    localMax &= localMax2 # and연산 \n",
    "    points=np.argwhere(localMax=True) # local max의 위치값 \n",
    "    print(points.shape)\n",
    "    points[:,[0,1]]=points[:,[1,0]] # x와 y값을 바꿈 (ndarray는 행,열이므로 y,x를 리턴)\n",
    "    return points"
   ]
  },
  {
   "cell_type": "code",
   "execution_count": 3,
   "id": "eb5c344d-1d92-4a81-ad09-e4108a6bc3d2",
   "metadata": {},
   "outputs": [],
   "source": [
    "# 참고로 이미 skimeage에 등록돼있는 함수임 \n",
    "def findLocalMaxima(src):\n",
    "    coordinates=peak_local_max(src,min_distance=11)\n",
    "    coordinates[:,[0,1]]=coordinates[:,[1,0]]\n",
    "    return coordinates"
   ]
  },
  {
   "cell_type": "code",
   "execution_count": null,
   "id": "b8752a5e-2473-42d2-9c24-d1222f48095a",
   "metadata": {},
   "outputs": [],
   "source": [
    "src=cv2.imread(\"./data/CornerTest.jpg\")\n",
    "gray=cv2.cvtColor(src,cv2.COLOR_BGR2GRAY)\n",
    "res=cv2.preCornerDetect(gray,ksize=3) # 코너 검출 \n",
    "ret, res2 = cv2.threshold(np.abs(res),0.1,0,cv2.THRESH_TOZERO) # res가 수가 많기 때문에 0.1보다 작은 값들은 버림(0으로 만듦)\n",
    "corners=findLocalMaxima(res2) # ret은 threshold값이고 res2는 0.1보다 큰 값들의 모임\n",
    "print(len(corners))"
   ]
  },
  {
   "cell_type": "code",
   "execution_count": null,
   "id": "dc3f2992-66ca-4aa1-9561-90f79b660d76",
   "metadata": {},
   "outputs": [],
   "source": [
    "dst=src.copy()\n",
    "for x,y in corners:\n",
    "    cv2.circle(dst,(x,y),5,(0,0,255),2) # bgr-> 빨간 원 그림, 두께는 2\n",
    "\n",
    "cv2.imshow('src',src)\n",
    "cv2.imshow('dst',dst)\n",
    "cv2.waitKey()\n",
    "cv2.destroyAllWindows()"
   ]
  },
  {
   "cell_type": "markdown",
   "id": "1ce341f7-65ce-4c99-ac19-1affadf14863",
   "metadata": {},
   "source": [
    "## Harris Corner Detector"
   ]
  },
  {
   "cell_type": "code",
   "execution_count": 4,
   "id": "2ffbba8a-dc4e-4ef3-9f20-952a76dd069a",
   "metadata": {},
   "outputs": [
    {
     "name": "stdout",
     "output_type": "stream",
     "text": [
      "[[170 374]\n",
      " [386 374]\n",
      " [264 127]\n",
      " [109 268]\n",
      " [167 271]\n",
      " [386 170]\n",
      " [267 167]\n",
      " [109 127]]\n"
     ]
    }
   ],
   "source": [
    "src=cv2.imread(\"./data/CornerTest.jpg\")\n",
    "gray=cv2.cvtColor(src,cv2.COLOR_BGR2GRAY)\n",
    "res=cv2.cornerHarris(gray,blockSize=5, ksize=3, k=0.01)\n",
    "ret, res2 = cv2.threshold(np.abs(res),0.02,0,cv2.THRESH_TOZERO)\n",
    "corners=findLocalMaxima(res2)\n",
    "print(corners)"
   ]
  },
  {
   "cell_type": "code",
   "execution_count": 5,
   "id": "35a8068d-4eb9-4c1c-80c9-2b706736f387",
   "metadata": {},
   "outputs": [],
   "source": [
    "dst=src.copy()\n",
    "for x,y in corners:\n",
    "    cv2.circle(dst,(x,y),5,(0,0,255),2) # bgr-> 빨간 원 그림, 두께는 2\n",
    "\n",
    "cv2.imshow('src',src)\n",
    "cv2.imshow('dst',dst)\n",
    "cv2.waitKey()\n",
    "cv2.destroyAllWindows()"
   ]
  },
  {
   "cell_type": "markdown",
   "id": "62fe6f21-e814-4860-a688-ed42bd8f1547",
   "metadata": {},
   "source": [
    "## Fast"
   ]
  },
  {
   "cell_type": "code",
   "execution_count": 6,
   "id": "1b0a1ed9-30cc-4e25-a6e0-857c00d6f026",
   "metadata": {},
   "outputs": [],
   "source": [
    "src=cv2.imread(\"./data/CornerTest.jpg\")\n",
    "gray=cv2.cvtColor(src,cv2.COLOR_BGR2GRAY)\n",
    "fast=cv2.FastFeatureDetector_create(30) # detector객체 생성 \n",
    "fast.setNonmaxSuppression(0) # 논맥시멈 서프레션을 하지를 않음 (가끔 찾은 코너를 지워버리는 경우가 생김) \n",
    "kp=fast.detect(src) # 키 포인트를 찾아냄 \n",
    "dst=src.copy()\n",
    "cv2.drawKeypoints(src,kp,dst,(0,0,255)) # 키 포인트를 그려주는 함수 \n",
    "cv2.imshow('dst',dst)\n",
    "cv2.waitKey()\n",
    "cv2.destroyAllWindows()"
   ]
  },
  {
   "cell_type": "markdown",
   "id": "cd45eb39-5417-48ba-a9eb-c1227fbe156a",
   "metadata": {},
   "source": [
    "## Chess Board"
   ]
  },
  {
   "cell_type": "code",
   "execution_count": 8,
   "id": "7a76a102-14c2-44ac-aea9-11edd83bdcb2",
   "metadata": {},
   "outputs": [
    {
     "name": "stdout",
     "output_type": "stream",
     "text": [
      "corners.shape= (18, 1, 2)\n"
     ]
    }
   ],
   "source": [
    "src=cv2.imread(\"./data/chessboard.jpg\")\n",
    "gray=cv2.cvtColor(src,cv2.COLOR_BGR2GRAY)\n",
    "patternSize=(6,3) # 축에서 네모 패턴 -1 (네모는 가로로 7개, 세로로 4개가 있었음) \n",
    "found,corners=cv2.findChessboardCorners(src,patternSize)\n",
    "print('corners.shape=',corners.shape)\n",
    "\n",
    "dst=src.copy()\n",
    "cv2.drawChessboardCorners(dst,patternSize,corners,found)\n",
    "\n",
    "cv2.imshow('dst',dst)\n",
    "cv2.waitKey()\n",
    "cv2.destroyAllWindows()"
   ]
  },
  {
   "cell_type": "code",
   "execution_count": null,
   "id": "f2ec2b27-9206-4afc-9b70-82c9eb8a36a2",
   "metadata": {},
   "outputs": [],
   "source": []
  }
 ],
 "metadata": {
  "kernelspec": {
   "display_name": "Python 3 (ipykernel)",
   "language": "python",
   "name": "python3"
  },
  "language_info": {
   "codemirror_mode": {
    "name": "ipython",
    "version": 3
   },
   "file_extension": ".py",
   "mimetype": "text/x-python",
   "name": "python",
   "nbconvert_exporter": "python",
   "pygments_lexer": "ipython3",
   "version": "3.8.11"
  }
 },
 "nbformat": 4,
 "nbformat_minor": 5
}
