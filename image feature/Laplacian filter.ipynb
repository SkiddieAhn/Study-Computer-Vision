{
 "cells": [
  {
   "cell_type": "code",
   "execution_count": 1,
   "id": "3d571fe2-5f0b-4d89-bdc3-9429808512a0",
   "metadata": {},
   "outputs": [],
   "source": [
    "import cv2\n",
    "import numpy as np"
   ]
  },
  {
   "cell_type": "code",
   "execution_count": 2,
   "id": "786c9799-21da-4993-9dc2-67fd3d7ce145",
   "metadata": {},
   "outputs": [],
   "source": [
    "src=cv2.imread('./data/lena.jpg',cv2.IMREAD_GRAYSCALE)\n",
    "blur=cv2.GaussianBlur(src,ksize=(7,7),sigmaX=0.0)\n",
    "cv2.imshow('src',src)\n",
    "cv2.imshow('blur',blur)\n",
    "cv2.waitKey()\n",
    "cv2.destroyAllWindows()"
   ]
  },
  {
   "cell_type": "code",
   "execution_count": 3,
   "id": "f77c6d91-9082-4ceb-81f7-7b0b53849140",
   "metadata": {},
   "outputs": [],
   "source": [
    "# 라플라시안을 소스에 바로 적용한 결과\n",
    "lap=cv2.Laplacian(src,cv2.CV_32F)\n",
    "dst=cv2.normalize(np.abs(lap),None,0,255,cv2.NORM_MINMAX,dtype=cv2.CV_8U)\n",
    "                  \n",
    "cv2.imshow('lap',lap)\n",
    "cv2.imshow('dst',dst)\n",
    "cv2.waitKey()\n",
    "cv2.destroyAllWindows()"
   ]
  },
  {
   "cell_type": "code",
   "execution_count": null,
   "id": "861ee223-bf93-4622-9306-d4647d64db92",
   "metadata": {},
   "outputs": [],
   "source": [
    "# 블러된 영상을 라플라시안 적용함 \n",
    "lap2=cv2.Laplacian(blur,cv2.CV_32F)\n",
    "dst2=cv2.normalize(np.abs(lap),None,0,255,cv2.NORM_MINMAX,dtype=cv2.CV_8U)\n",
    "                  \n",
    "cv2.imshow('lap2',lap)\n",
    "cv2.imshow('dst',dst)\n",
    "cv2.imshow('dst2',dst)\n",
    "cv2.waitKey()\n",
    "cv2.destroyAllWindows()"
   ]
  },
  {
   "cell_type": "code",
   "execution_count": null,
   "id": "6f1b0457-4b90-4268-abcc-2111517dae93",
   "metadata": {},
   "outputs": [],
   "source": []
  }
 ],
 "metadata": {
  "kernelspec": {
   "display_name": "Python 3 (ipykernel)",
   "language": "python",
   "name": "python3"
  },
  "language_info": {
   "codemirror_mode": {
    "name": "ipython",
    "version": 3
   },
   "file_extension": ".py",
   "mimetype": "text/x-python",
   "name": "python",
   "nbconvert_exporter": "python",
   "pygments_lexer": "ipython3",
   "version": "3.8.11"
  }
 },
 "nbformat": 4,
 "nbformat_minor": 5
}
