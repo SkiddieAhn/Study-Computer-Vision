{
 "cells": [
  {
   "cell_type": "code",
   "execution_count": 2,
   "id": "bc34c762-6ef5-4769-a71d-e2556673910f",
   "metadata": {},
   "outputs": [],
   "source": [
    "import cv2\n",
    "import numpy as np\n",
    "import imutils\n",
    "\n",
    "src=cv2.imread('./data/momentTest.jpg')\n",
    "gray=cv2.cvtColor(src,cv2.COLOR_BGR2GRAY)\n",
    "ret,bImage=cv2.threshold(gray,128,255,cv2.THRESH_BINARY) # 0과 255로 완전 분리해야 됨(가끔 254보다 작은걸로 들어옴) \n",
    "\n",
    "mode=cv2.RETR_EXTERNAL\n",
    "method=cv2.CHAIN_APPROX_SIMPLE\n",
    "contours,_=cv2.findContours(bImage,mode,method) # 외곽선 검출 \n",
    "\n",
    "dst=src.copy()\n",
    "cnt=contours[0]\n",
    "cv2.drawContours(dst,[cnt],0,(255,0,0),3) # 외곽선 그리기\n",
    "cv2.imshow('contour',dst)\n",
    "cv2.waitKey()\n",
    "cv2.destroyAllWindows()"
   ]
  },
  {
   "cell_type": "code",
   "execution_count": 3,
   "id": "5d946d8a-df21-4cf3-8061-37ea522d41c4",
   "metadata": {},
   "outputs": [
    {
     "name": "stdout",
     "output_type": "stream",
     "text": [
      "hu.shape= (7, 1)\n",
      "hu= [[ 1.72272960e-01]\n",
      " [ 2.17960438e-03]\n",
      " [ 9.24428655e-05]\n",
      " [ 1.90785217e-06]\n",
      " [ 1.11977849e-12]\n",
      " [-6.96325160e-09]\n",
      " [-2.53121609e-11]]\n"
     ]
    }
   ],
   "source": [
    "M=cv2.moments(cnt) # contour를 모멘트에 넣음\n",
    "hu=cv2.HuMoments(M) # 휴 모멘트도 구함 \n",
    "print('hu.shape=',hu.shape)\n",
    "print('hu=',hu)"
   ]
  },
  {
   "cell_type": "code",
   "execution_count": 4,
   "id": "b6ea0485-1db0-4b54-affb-17f5844e304f",
   "metadata": {},
   "outputs": [],
   "source": [
    "angle=45.0\n",
    "scale=0.2\n",
    "cx=M['m10']/M['m00']\n",
    "cy=M['m01']/M['m00']\n",
    "center=(cx,cy)\n",
    "t=(20,30)"
   ]
  },
  {
   "cell_type": "code",
   "execution_count": 5,
   "id": "35bb3b0f-af34-4428-b60b-48a954741367",
   "metadata": {},
   "outputs": [],
   "source": [
    "A=cv2.getRotationMatrix2D(center,angle,scale) # 변환 행렬을 구함\n",
    "A[:,2]+=t # translation (선형대수 참고) \n",
    "cnt2=cv2.transform(cnt,A) # cnt(coutour의 점들의 값) 변환\n",
    "cv2.drawContours(dst,[cnt2],0,(0,255,0),3)\n",
    "cv2.imshow('contour',dst)\n",
    "cv2.waitKey()\n",
    "cv2.destroyAllWindows()"
   ]
  },
  {
   "cell_type": "markdown",
   "id": "72bb3697-612b-478c-9262-08e1b3f53bb2",
   "metadata": {},
   "source": [
    "## 두 휴 모멘트 값을 비교"
   ]
  },
  {
   "cell_type": "code",
   "execution_count": 6,
   "id": "d24f4194-1a97-4fd4-b899-1c8b3ade290b",
   "metadata": {},
   "outputs": [
    {
     "name": "stdout",
     "output_type": "stream",
     "text": [
      "hu.shape= (7, 1)\n",
      "hu2= [[ 1.72272960e-01]\n",
      " [ 2.17960438e-03]\n",
      " [ 9.24428655e-05]\n",
      " [ 1.90785217e-06]\n",
      " [ 1.11977849e-12]\n",
      " [-6.96325160e-09]\n",
      " [-2.53121609e-11]]\n"
     ]
    }
   ],
   "source": [
    "M2=cv2.moments(cnt2) # contour를 모멘트에 넣음\n",
    "hu2=cv2.HuMoments(M2) # 휴 모멘트도 구함 \n",
    "print('hu.shape=',hu2.shape)\n",
    "print('hu2=',hu)"
   ]
  },
  {
   "cell_type": "code",
   "execution_count": 7,
   "id": "795774d1-d7d0-4ea0-bb20-9ef3971e987b",
   "metadata": {},
   "outputs": [
    {
     "name": "stdout",
     "output_type": "stream",
     "text": [
      "diffSum= 0.0003215707378081359\n"
     ]
    }
   ],
   "source": [
    "diffSum=np.sum(cv2.absdiff(hu,hu2))\n",
    "print('diffSum=',diffSum)"
   ]
  },
  {
   "cell_type": "code",
   "execution_count": null,
   "id": "968373f5-5905-4e93-8eaf-14104bef73d6",
   "metadata": {},
   "outputs": [],
   "source": []
  }
 ],
 "metadata": {
  "kernelspec": {
   "display_name": "Python 3 (ipykernel)",
   "language": "python",
   "name": "python3"
  },
  "language_info": {
   "codemirror_mode": {
    "name": "ipython",
    "version": 3
   },
   "file_extension": ".py",
   "mimetype": "text/x-python",
   "name": "python",
   "nbconvert_exporter": "python",
   "pygments_lexer": "ipython3",
   "version": "3.8.11"
  }
 },
 "nbformat": 4,
 "nbformat_minor": 5
}
