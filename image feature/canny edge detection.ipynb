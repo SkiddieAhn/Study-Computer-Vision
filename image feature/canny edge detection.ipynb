{
 "cells": [
  {
   "cell_type": "code",
   "execution_count": 1,
   "id": "15cdd01b-e365-457b-9ba0-72d4430039e7",
   "metadata": {},
   "outputs": [],
   "source": [
    "import cv2\n",
    "import numpy as np"
   ]
  },
  {
   "cell_type": "code",
   "execution_count": null,
   "id": "d26ede1e-7c67-405d-bb6a-f5c5742dd366",
   "metadata": {},
   "outputs": [],
   "source": [
    "src = cv2.imread('./data/lena.jpg',cv2.IMREAD_GRAYSCALE)\n",
    "# 100,200 - 임계값을 높일수록 엣지가 줄어들음\n",
    "edges1=cv2.Canny(src,50,10)\n",
    "edges2=cv2.Canny(src,50,200)\n",
    "\n",
    "cv2.imshow('src',src)\n",
    "cv2.imshow('edges1',edges1)\n",
    "cv2.imshow('edges2',edges2)\n",
    "cv2.waitKey()\n",
    "cv2.destroyAllWindows()"
   ]
  },
  {
   "cell_type": "code",
   "execution_count": null,
   "id": "ef8ccd67-715d-41d8-8f2b-54b5d19b7b42",
   "metadata": {},
   "outputs": [],
   "source": []
  }
 ],
 "metadata": {
  "kernelspec": {
   "display_name": "Python 3 (ipykernel)",
   "language": "python",
   "name": "python3"
  },
  "language_info": {
   "codemirror_mode": {
    "name": "ipython",
    "version": 3
   },
   "file_extension": ".py",
   "mimetype": "text/x-python",
   "name": "python",
   "nbconvert_exporter": "python",
   "pygments_lexer": "ipython3",
   "version": "3.8.11"
  }
 },
 "nbformat": 4,
 "nbformat_minor": 5
}
