{
 "cells": [
  {
   "cell_type": "code",
   "execution_count": 1,
   "id": "d9c18a9d-f9d8-40a8-947c-88a88db22ae0",
   "metadata": {},
   "outputs": [],
   "source": [
    "import cv2\n",
    "import numpy as np\n",
    "import matplotlib.pyplot as plt"
   ]
  },
  {
   "cell_type": "code",
   "execution_count": 2,
   "id": "69e6c366-fdd8-4019-b124-d4c0553575b5",
   "metadata": {},
   "outputs": [],
   "source": [
    "src=cv2.imread('./data/hand_paper.jpg')\n",
    "data=src.reshape((-1,3)).astype(np.float32)\n",
    "hsv=cv2.cvtColor(src,cv2.COLOR_BGR2HSV)"
   ]
  },
  {
   "cell_type": "code",
   "execution_count": 8,
   "id": "8dc150d5-2ee1-4b0a-98d4-d9311aebfac0",
   "metadata": {},
   "outputs": [
    {
     "name": "stdout",
     "output_type": "stream",
     "text": [
      "centers.shape= (2, 3)\n",
      "labels.shape= (230400, 1)\n",
      "ret= 62989280.689894974\n"
     ]
    }
   ],
   "source": [
    "K=2\n",
    "term_crit=(cv2.TERM_CRITERIA_EPS+cv2.TERM_CRITERIA_MAX_ITER,10,1.0)\n",
    "ret,labels,centers=cv2.kmeans(data,K,None,term_crit,5,cv2.KMEANS_RANDOM_CENTERS)\n",
    "print('centers.shape=',centers.shape)\n",
    "print('labels.shape=',labels.shape)\n",
    "print('ret=',ret)"
   ]
  },
  {
   "cell_type": "code",
   "execution_count": 12,
   "id": "ca90ea4e-45e3-44e1-92e8-ce3dfca9d77f",
   "metadata": {},
   "outputs": [
    {
     "data": {
      "text/plain": [
       "<matplotlib.image.AxesImage at 0x17e3d515730>"
      ]
     },
     "execution_count": 12,
     "metadata": {},
     "output_type": "execute_result"
    },
    {
     "data": {
      "image/png": "[encoded data removed]",
      "text/plain": [
       "<Figure size 720x720 with 1 Axes>"
      ]
     },
     "metadata": {
      "needs_background": "light"
     },
     "output_type": "display_data"
    }
   ],
   "source": [
    "centers=np.uint8(centers)\n",
    "res=centers[labels.flatten()]\n",
    "dst=res.reshape(src.shape)\n",
    "dstrgb=cv2.cvtColor(dst,cv2.COLOR_BGR2RGB)\n",
    "\n",
    "plt.figure(figsize=(10,10))\n",
    "plt.axis('off')\n",
    "plt.imshow(dstrgb)"
   ]
  },
  {
   "cell_type": "code",
   "execution_count": null,
   "id": "d45739e9-d7b6-49a6-ac31-dcc0041e7e29",
   "metadata": {},
   "outputs": [],
   "source": []
  }
 ],
 "metadata": {
  "kernelspec": {
   "display_name": "DL",
   "language": "python",
   "name": "dl"
  },
  "language_info": {
   "codemirror_mode": {
    "name": "ipython",
    "version": 3
   },
   "file_extension": ".py",
   "mimetype": "text/x-python",
   "name": "python",
   "nbconvert_exporter": "python",
   "pygments_lexer": "ipython3",
   "version": "3.8.11"
  }
 },
 "nbformat": 4,
 "nbformat_minor": 5
}
