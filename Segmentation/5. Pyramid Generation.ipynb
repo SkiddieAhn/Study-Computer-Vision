{
 "cells": [
  {
   "cell_type": "code",
   "execution_count": 6,
   "id": "333743ab-c740-4885-b8bb-bea0b5318694",
   "metadata": {},
   "outputs": [],
   "source": [
    "import cv2\n",
    "import numpy as np"
   ]
  },
  {
   "cell_type": "code",
   "execution_count": 7,
   "id": "faabba55-72c8-4589-bba2-78346f3db410",
   "metadata": {},
   "outputs": [
    {
     "name": "stdout",
     "output_type": "stream",
     "text": [
      "src1.shape= (1024, 1024, 3)\n",
      "down2.shape= (512, 512, 3)\n",
      "down2.shape= (512, 512, 3)\n"
     ]
    }
   ],
   "source": [
    "src1=cv2.imread('./data/lena1.jpg')\n",
    "down2=cv2.pyrDown(src1)\n",
    "down4=cv2.pyrDown(down2)\n",
    "print('src1.shape=',src1.shape)\n",
    "print('down2.shape=',down2.shape)\n",
    "print('down2.shape=',down2.shape)\n",
    "\n",
    "cv2.imshow('down2',down2)\n",
    "cv2.waitKey()\n",
    "cv2.destroyAllWindows()\n",
    "\n",
    "cv2.imshow('down4',down4)\n",
    "cv2.waitKey()\n",
    "cv2.destroyAllWindows()"
   ]
  },
  {
   "cell_type": "code",
   "execution_count": 8,
   "id": "a971747a-6606-4fdf-ac0c-ca2df9b14289",
   "metadata": {},
   "outputs": [
    {
     "name": "stdout",
     "output_type": "stream",
     "text": [
      "src2.shape= (307, 307, 3)\n",
      "up2.shape= (614, 614, 3)\n",
      "up4.shape= (1228, 1228, 3)\n"
     ]
    }
   ],
   "source": [
    "src2=cv2.imread('./data/lena2.jpg')\n",
    "up2=cv2.pyrUp(src2)\n",
    "up4=cv2.pyrUp(up2)\n",
    "print('src2.shape=',src2.shape)\n",
    "print('up2.shape=',up2.shape)\n",
    "print('up4.shape=',up4.shape)\n",
    "\n",
    "cv2.imshow('up2',up2)\n",
    "cv2.waitKey()\n",
    "cv2.destroyAllWindows()\n",
    "\n",
    "cv2.imshow('up4',up4)\n",
    "cv2.waitKey()\n",
    "cv2.destroyAllWindows()"
   ]
  },
  {
   "cell_type": "code",
   "execution_count": null,
   "id": "58845251-1d7a-47e1-9758-92b38ff453b2",
   "metadata": {},
   "outputs": [],
   "source": []
  }
 ],
 "metadata": {
  "kernelspec": {
   "display_name": "DL",
   "language": "python",
   "name": "dl"
  },
  "language_info": {
   "codemirror_mode": {
    "name": "ipython",
    "version": 3
   },
   "file_extension": ".py",
   "mimetype": "text/x-python",
   "name": "python",
   "nbconvert_exporter": "python",
   "pygments_lexer": "ipython3",
   "version": "3.8.11"
  }
 },
 "nbformat": 4,
 "nbformat_minor": 5
}
