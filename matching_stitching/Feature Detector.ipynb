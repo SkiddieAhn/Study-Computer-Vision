{
 "cells": [
  {
   "cell_type": "markdown",
   "id": "3e93ed5d-f00a-43e4-aab3-56629253fba1",
   "metadata": {},
   "source": [
    "### 1. FastFeature Detector"
   ]
  },
  {
   "cell_type": "code",
   "execution_count": 1,
   "id": "c332415d-9691-41a0-80ec-a2d1813013a0",
   "metadata": {},
   "outputs": [
    {
     "name": "stdout",
     "output_type": "stream",
     "text": [
      "len(kp)= 167\n"
     ]
    }
   ],
   "source": [
    "import cv2\n",
    "import numpy as np\n",
    "\n",
    "src=cv2.imread('./data/chessBoard.jpg')\n",
    "gray=cv2.cvtColor(src,cv2.COLOR_BGR2GRAY)\n",
    "\n",
    "fastF=cv2.FastFeatureDetector_create()\n",
    "kp=fastF.detect(gray)\n",
    "dst=cv2.drawKeypoints(gray,kp,None,color=(0,0,255))\n",
    "print('len(kp)=',len(kp))\n",
    "cv2.imshow('dst',dst)\n",
    "cv2.waitKey()\n",
    "cv2.destroyAllWindows()"
   ]
  },
  {
   "cell_type": "markdown",
   "id": "9df0dd0a-51b6-45e9-bec6-e1e424e36f31",
   "metadata": {},
   "source": [
    "### 2. MSER"
   ]
  },
  {
   "cell_type": "code",
   "execution_count": 3,
   "id": "7b581ab7-1625-41c2-8b07-5340d6ee7970",
   "metadata": {},
   "outputs": [
    {
     "name": "stdout",
     "output_type": "stream",
     "text": [
      "len(kp)= 202\n"
     ]
    }
   ],
   "source": [
    "import cv2\n",
    "import numpy as np\n",
    "\n",
    "src=cv2.imread('./data/chessBoard.jpg')\n",
    "gray=cv2.cvtColor(src,cv2.COLOR_BGR2GRAY)\n",
    "\n",
    "mserF = cv2.MSER_create(10) # 임계치(델타)에 따라 검출되는 피처 포인트의 값이 달라짐, 클수록 키 포인트 수가 줄어듦\n",
    "kp=mserF.detect(gray)\n",
    "print('len(kp)=',len(kp)) # length가 202가 나온 것은 중첩됐기 때문          \n",
    "dst=cv2.drawKeypoints(gray,kp,None,color=(0,0,255))\n",
    "cv2.imshow('dst',dst)\n",
    "cv2.waitKey()\n",
    "cv2.destroyAllWindows()"
   ]
  },
  {
   "cell_type": "markdown",
   "id": "856983e1-30cd-4dc6-88c9-51152274e4d1",
   "metadata": {},
   "source": [
    "### 3. SimpleBlobDetector"
   ]
  },
  {
   "cell_type": "code",
   "execution_count": 4,
   "id": "403c2bd2-2730-463d-82c2-720bf4f2fa8c",
   "metadata": {},
   "outputs": [
    {
     "name": "stdout",
     "output_type": "stream",
     "text": [
      "len(kp)= 14\n"
     ]
    }
   ],
   "source": [
    "import cv2\n",
    "import numpy as np\n",
    "\n",
    "src=cv2.imread('./data/chessBoard.jpg')\n",
    "gray=cv2.cvtColor(src,cv2.COLOR_BGR2GRAY)\n",
    "\n",
    "params=cv2.SimpleBlobDetector_Params()\n",
    "params.blobColor=1 # 1이면 밝은거 찾음, 0이면 어두운거 찾음 <영상에 따라 못 찾을 수도 있음>\n",
    "blobF=cv2.SimpleBlobDetector_create(params)\n",
    "\n",
    "blobF=cv2.SimpleBlobDetector_create(params)\n",
    "kp=blobF.detect(gray)\n",
    "print('len(kp)=',len(kp))\n",
    "dst=cv2.drawKeypoints(gray,kp,None,color=(0,0,255))\n",
    "cv2.imshow('dst',dst)\n",
    "cv2.waitKey()\n",
    "cv2.destroyAllWindows()"
   ]
  },
  {
   "cell_type": "markdown",
   "id": "fc95272b-7b86-40bf-9bc0-1c4d93948bac",
   "metadata": {},
   "source": [
    "### 4. GFTTDetector"
   ]
  },
  {
   "cell_type": "code",
   "execution_count": 5,
   "id": "bb95cd22-fdcb-425f-8531-38e566d5f5ec",
   "metadata": {},
   "outputs": [
    {
     "name": "stdout",
     "output_type": "stream",
     "text": [
      "len(kp)= 114\n"
     ]
    }
   ],
   "source": [
    "import cv2\n",
    "import numpy as np\n",
    "\n",
    "src=cv2.imread('./data/chessBoard.jpg')\n",
    "gray=cv2.cvtColor(src,cv2.COLOR_BGR2GRAY)\n",
    "\n",
    "goodF=cv2.GFTTDetector_create()\n",
    "kp=goodF.detect(gray)\n",
    "dst=cv2.drawKeypoints(gray,kp,None,color=(0,0,255))\n",
    "print('len(kp)=',len(kp))\n",
    "cv2.imshow('dst',dst)\n",
    "cv2.waitKey()\n",
    "cv2.destroyAllWindows()"
   ]
  },
  {
   "cell_type": "markdown",
   "id": "4e1904c5-dbf9-4ae2-ba4f-40c00bd0e239",
   "metadata": {},
   "source": [
    "### 5. ORB"
   ]
  },
  {
   "cell_type": "code",
   "execution_count": 6,
   "id": "e757adb3-a7e7-40c9-90e7-521a222f5f61",
   "metadata": {},
   "outputs": [
    {
     "name": "stdout",
     "output_type": "stream",
     "text": [
      "len(kp)= 63\n"
     ]
    }
   ],
   "source": [
    "import cv2\n",
    "import numpy as np\n",
    "\n",
    "src=cv2.imread('./data/CornerTest.jpg')\n",
    "gray=cv2.cvtColor(src,cv2.COLOR_BGR2GRAY)\n",
    "gray=cv2.GaussianBlur(gray,(5,5),0,0) # 가우시안 블러 적용 (노이즈 있으면)\n",
    "\n",
    "orbF=cv2.ORB_create(scoreType=1) # FAST_SCORE, 파라미터 안 넣으면 HARRIS_SCORE\n",
    "kp=orbF.detect(gray)\n",
    "dst=cv2.drawKeypoints(gray,kp,None,color=(0,0,255))\n",
    "print('len(kp)=',len(kp))\n",
    "cv2.imshow('dst',dst)\n",
    "cv2.waitKey()\n",
    "cv2.destroyAllWindows()"
   ]
  },
  {
   "cell_type": "markdown",
   "id": "2867e20e-1a81-4e89-bd34-d1371f214333",
   "metadata": {},
   "source": [
    "### 6. BRISK"
   ]
  },
  {
   "cell_type": "code",
   "execution_count": 7,
   "id": "5648c440-c1b2-435f-bd8f-0ed645a1c933",
   "metadata": {},
   "outputs": [
    {
     "name": "stdout",
     "output_type": "stream",
     "text": [
      "len(kp)= 27\n"
     ]
    }
   ],
   "source": [
    "import cv2\n",
    "import numpy as np\n",
    "\n",
    "src=cv2.imread('./data/CornerTest.jpg')\n",
    "gray=cv2.cvtColor(src,cv2.COLOR_BGR2GRAY)\n",
    "gray=cv2.GaussianBlur(gray,(5,5),0,0)\n",
    "\n",
    "briskF=cv2.BRISK_create()\n",
    "kp=briskF.detect(gray)\n",
    "dst=cv2.drawKeypoints(gray,kp,None,color=(0,0,255))\n",
    "print('len(kp)=',len(kp))\n",
    "cv2.imshow('dst',dst)\n",
    "cv2.waitKey()\n",
    "cv2.destroyAllWindows()"
   ]
  },
  {
   "cell_type": "markdown",
   "id": "eb01f0db-3810-48ea-a0cb-6be1121dcc10",
   "metadata": {},
   "source": [
    "### 7. KAZE"
   ]
  },
  {
   "cell_type": "code",
   "execution_count": 8,
   "id": "18022ce5-cbf8-4b88-ad77-e433b5c55d84",
   "metadata": {},
   "outputs": [
    {
     "name": "stdout",
     "output_type": "stream",
     "text": [
      "len(kp)= 24\n"
     ]
    }
   ],
   "source": [
    "import cv2\n",
    "import numpy as np\n",
    "\n",
    "src=cv2.imread('./data/CornerTest.jpg')\n",
    "gray=cv2.cvtColor(src,cv2.COLOR_BGR2GRAY)\n",
    "gray=cv2.GaussianBlur(gray,(5,5),0,0)\n",
    "\n",
    "kazeF=cv2.KAZE_create()\n",
    "kp=kazeF.detect(gray)\n",
    "dst=cv2.drawKeypoints(gray,kp,None,color=(0,0,255))\n",
    "print('len(kp)=',len(kp))\n",
    "cv2.imshow('dst',dst)\n",
    "cv2.waitKey()\n",
    "cv2.destroyAllWindows()"
   ]
  },
  {
   "cell_type": "code",
   "execution_count": null,
   "id": "0f3c29cd-5b13-4f2d-ba77-932b286fede2",
   "metadata": {},
   "outputs": [],
   "source": []
  }
 ],
 "metadata": {
  "kernelspec": {
   "display_name": "Python 3 (ipykernel)",
   "language": "python",
   "name": "python3"
  },
  "language_info": {
   "codemirror_mode": {
    "name": "ipython",
    "version": 3
   },
   "file_extension": ".py",
   "mimetype": "text/x-python",
   "name": "python",
   "nbconvert_exporter": "python",
   "pygments_lexer": "ipython3",
   "version": "3.8.11"
  }
 },
 "nbformat": 4,
 "nbformat_minor": 5
}
