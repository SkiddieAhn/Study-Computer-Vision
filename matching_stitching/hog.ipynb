{
 "cells": [
  {
   "cell_type": "code",
   "execution_count": 1,
   "id": "bfd1c6b7-8c7a-4477-9f76-3504fe617782",
   "metadata": {},
   "outputs": [],
   "source": [
    "import cv2\n",
    "from matplotlib import pyplot as plt"
   ]
  },
  {
   "cell_type": "code",
   "execution_count": 9,
   "id": "02717986-8063-482d-8601-892c41555124",
   "metadata": {},
   "outputs": [],
   "source": [
    "src=cv2.imread('./data/man.png') # crop이 돼 있는 사람 영상"
   ]
  },
  {
   "cell_type": "code",
   "execution_count": 10,
   "id": "1d5b0c52-89e3-4fce-b224-8244ef3e3b5d",
   "metadata": {},
   "outputs": [
    {
     "name": "stdout",
     "output_type": "stream",
     "text": [
      "des1.shpae= (3780, 1)\n",
      "des1= [[0.01308054]\n",
      " [0.00584509]\n",
      " [0.04909251]\n",
      " ...\n",
      " [0.04155609]\n",
      " [0.02162938]\n",
      " [0.08109097]]\n"
     ]
    }
   ],
   "source": [
    "hog1=cv2.HOGDescriptor()\n",
    "des1=hog1.compute(src) # Hog 계산 \n",
    "print('des1.shpae=',des1.shape)\n",
    "print('des1=',des1)"
   ]
  },
  {
   "cell_type": "code",
   "execution_count": null,
   "id": "08286b1e-bf1b-4032-af70-e3eadeb7c094",
   "metadata": {},
   "outputs": [],
   "source": [
    "# HoG in color image\n",
    "winSize=(64,128)\n",
    "blockSize=(16,16)\n",
    "blockStride=(8,8)\n",
    "cellSize=(8,8)\n",
    "nbins=9\n",
    "derivAperture=1\n",
    "winSigma=-1\n",
    "histogramNormType=0\n",
    "L2HysThreshold=0.2\n",
    "gammaCorrection=True\n",
    "nlevels=64\n",
    "signedGradient=False\n",
    "hog2=cv2.HOGDescriptor(winSize,blockSize,blockStride,cellSize,nbins,"
   ]
  }
 ],
 "metadata": {
  "kernelspec": {
   "display_name": "Python 3 (ipykernel)",
   "language": "python",
   "name": "python3"
  },
  "language_info": {
   "codemirror_mode": {
    "name": "ipython",
    "version": 3
   },
   "file_extension": ".py",
   "mimetype": "text/x-python",
   "name": "python",
   "nbconvert_exporter": "python",
   "pygments_lexer": "ipython3",
   "version": "3.8.11"
  }
 },
 "nbformat": 4,
 "nbformat_minor": 5
}
